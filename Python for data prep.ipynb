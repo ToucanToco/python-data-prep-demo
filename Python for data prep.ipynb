{
 "cells": [
  {
   "cell_type": "code",
   "execution_count": 1,
   "metadata": {
    "scrolled": true
   },
   "outputs": [
    {
     "name": "stdout",
     "output_type": "stream",
     "text": [
      "Requirement already satisfied: docker in ./.pyenv/versions/3.8.6/envs/python-data-prep/lib/python3.8/site-packages (4.3.1)\r\n",
      "Requirement already satisfied: pymongo in ./.pyenv/versions/3.8.6/envs/python-data-prep/lib/python3.8/site-packages (3.11.0)\r\n",
      "Requirement already satisfied: pandas in ./.pyenv/versions/3.8.6/envs/python-data-prep/lib/python3.8/site-packages (1.1.3)\r\n",
      "Requirement already satisfied: websocket-client>=0.32.0 in ./.pyenv/versions/3.8.6/envs/python-data-prep/lib/python3.8/site-packages (from docker) (0.57.0)\r\n",
      "Requirement already satisfied: six>=1.4.0 in ./.pyenv/versions/3.8.6/envs/python-data-prep/lib/python3.8/site-packages (from docker) (1.15.0)\r\n",
      "Requirement already satisfied: requests!=2.18.0,>=2.14.2 in ./.pyenv/versions/3.8.6/envs/python-data-prep/lib/python3.8/site-packages (from docker) (2.24.0)\r\n",
      "Requirement already satisfied: pytz>=2017.2 in ./.pyenv/versions/3.8.6/envs/python-data-prep/lib/python3.8/site-packages (from pandas) (2020.1)\r\n",
      "Requirement already satisfied: numpy>=1.15.4 in ./.pyenv/versions/3.8.6/envs/python-data-prep/lib/python3.8/site-packages (from pandas) (1.19.2)\r\n",
      "Requirement already satisfied: python-dateutil>=2.7.3 in ./.pyenv/versions/3.8.6/envs/python-data-prep/lib/python3.8/site-packages (from pandas) (2.8.1)\r\n",
      "Requirement already satisfied: certifi>=2017.4.17 in ./.pyenv/versions/3.8.6/envs/python-data-prep/lib/python3.8/site-packages (from requests!=2.18.0,>=2.14.2->docker) (2020.6.20)\r\n",
      "Requirement already satisfied: idna<3,>=2.5 in ./.pyenv/versions/3.8.6/envs/python-data-prep/lib/python3.8/site-packages (from requests!=2.18.0,>=2.14.2->docker) (2.10)\r\n",
      "Requirement already satisfied: chardet<4,>=3.0.2 in ./.pyenv/versions/3.8.6/envs/python-data-prep/lib/python3.8/site-packages (from requests!=2.18.0,>=2.14.2->docker) (3.0.4)\r\n",
      "Requirement already satisfied: urllib3!=1.25.0,!=1.25.1,<1.26,>=1.21.1 in ./.pyenv/versions/3.8.6/envs/python-data-prep/lib/python3.8/site-packages (from requests!=2.18.0,>=2.14.2->docker) (1.25.11)\r\n",
      "\u001B[33mWARNING: You are using pip version 20.2.1; however, version 20.2.4 is available.\r\n",
      "You should consider upgrading via the '/home/david/.pyenv/versions/3.8.6/envs/python-data-prep/bin/python3.8 -m pip install --upgrade pip' command.\u001B[0m\r\n",
      "Note: you may need to restart the kernel to use updated packages.\n"
     ]
    }
   ],
   "source": [
    "%pip install docker pymongo pandas"
   ]
  },
  {
   "cell_type": "code",
   "execution_count": 2,
   "metadata": {},
   "outputs": [],
   "source": [
    "import os\n",
    "import docker\n",
    "\n",
    "docker_client = docker.from_env()\n",
    "MONGO_PORT = 27018\n",
    "\n",
    "mongo_container = docker_client.containers.run(\n",
    "    'mongo:latest',\n",
    "    detach=True,\n",
    "    name='mongo-data-prep',\n",
    "    remove=True,\n",
    "    ports={'27017/tcp': MONGO_PORT},\n",
    "    mem_limit='2G',\n",
    "    volumes={\n",
    "        os.path.join(os.getcwd(), 'db'): {'bind': '/data/db', 'mode': 'rw'},\n",
    "    }\n",
    ")"
   ]
  },
  {
   "cell_type": "code",
   "execution_count": 3,
   "metadata": {},
   "outputs": [],
   "source": [
    "from pymongo import MongoClient\n",
    "mongo_client = MongoClient('127.0.0.1', MONGO_PORT)\n",
    "db = mongo_client['data-prep']"
   ]
  },
  {
   "cell_type": "code",
   "execution_count": 4,
   "metadata": {
    "scrolled": true
   },
   "outputs": [],
   "source": [
    "sales_col = db.get_collection('sales')\n",
    "sales_col.drop()"
   ]
  },
  {
   "cell_type": "code",
   "execution_count": 10,
   "metadata": {},
   "outputs": [
    {
     "data": {
      "text/plain": "<pymongo.results.InsertManyResult at 0x7fda3b45de40>"
     },
     "execution_count": 10,
     "metadata": {},
     "output_type": "execute_result"
    }
   ],
   "source": [
    "from pathlib import Path\n",
    "import json\n",
    "sales_data = json.loads(Path('/home/david/dev/toucan-toco/python-data-prep/data/sales.json').read_text())\n",
    "sales_col.insert_many(sales_data['data'])"
   ]
  },
  {
   "cell_type": "markdown",
   "source": [
    "Simulating a weaverbird pipeline:"
   ],
   "metadata": {
    "collapsed": false
   }
  },
  {
   "cell_type": "code",
   "execution_count": 13,
   "outputs": [],
   "source": [
    "import pandas as pd"
   ],
   "metadata": {
    "collapsed": false,
    "pycharm": {
     "name": "#%%\n"
    }
   }
  },
  {
   "cell_type": "code",
   "execution_count": 27,
   "outputs": [],
   "source": [
    "'''\n",
    "{\n",
    "    \"domain\": \"sales\",\n",
    "    \"name\": \"domain\"\n",
    "},\n",
    "'''\n",
    "def get_domain(domain):\n",
    "    return pd.DataFrame(db.get_collection(domain).find({}))\n",
    "df = get_domain('sales')"
   ],
   "metadata": {
    "collapsed": false,
    "pycharm": {
     "name": "#%%\n"
    }
   }
  },
  {
   "cell_type": "code",
   "execution_count": 28,
   "outputs": [],
   "source": [
    "'''\n",
    "{\n",
    "    \"name\": \"filter\",\n",
    "    \"condition\": {\n",
    "      \"column\": \"Payment_Type\",\n",
    "      \"operator\": \"eq\",\n",
    "      \"value\": \"Mastercard\"\n",
    "    }\n",
    "}\n",
    "'''\n",
    "def filter(df, column, value):\n",
    "    return df[df[column] == value]\n",
    "df1 = filter(df, 'Payment_Type', 'Mastercard')"
   ],
   "metadata": {
    "collapsed": false,
    "pycharm": {
     "name": "#%%\n"
    }
   }
  },
  {
   "cell_type": "code",
   "execution_count": 31,
   "outputs": [
    {
     "name": "stdout",
     "output_type": "stream",
     "text": [
      "CPU times: user 5.95 ms, sys: 0 ns, total: 5.95 ms\n",
      "Wall time: 5.43 ms\n"
     ]
    },
    {
     "data": {
      "text/plain": "                         _id Transaction_date  ...   Latitude   Longitude\n1   5f903839acd166c1735d9216      1/5/09 4:10  ... -26.166667   27.866667\n2   5f903839acd166c1735d9217     1/4/09 13:17  ...  32.066667   34.766667\n3   5f903839acd166c1735d9218      1/2/09 6:17  ...  51.500000   -1.116667\n6   5f903839acd166c1735d921b      1/5/09 8:58  ...  52.333333    7.900000\n9   5f903839acd166c1735d921e    1/15/09 12:54  ...  45.400000  -73.933333\n15  5f903839acd166c1735d9224    1/12/09 15:12  ...  39.838060  -75.153060\n16  5f903839acd166c1735d9225    1/19/09 16:10  ...  41.022780  -73.565280\n17  5f903839acd166c1735d9226     1/20/09 6:03  ...  32.525000  -93.750000\n26  5f903839acd166c1735d922f      1/4/09 9:54  ...  30.157780  -95.489170\n27  5f903839acd166c1735d9230    1/22/09 15:32  ...  53.252222   -6.112500\n34  5f903839acd166c1735d9237    1/17/09 11:09  ...  -3.716667  -38.500000\n35  5f903839acd166c1735d9238    1/31/09 11:14  ...  33.509170 -111.898330\n38  5f903839acd166c1735d923b     1/5/09 12:41  ...  32.797780 -117.239440\n39  5f903839acd166c1735d923c     1/4/09 21:08  ...  51.083333 -114.083333\n40  5f903839acd166c1735d923d    1/19/09 14:53  ...  41.008610  -91.962500\n46  5f903839acd166c1735d9243     1/29/09 6:49  ...  52.366667    9.716667\n47  5f903839acd166c1735d9244     1/27/09 6:26  ...  42.886390  -78.878610\n\n[17 rows x 13 columns]",
      "text/html": "<div>\n<style scoped>\n    .dataframe tbody tr th:only-of-type {\n        vertical-align: middle;\n    }\n\n    .dataframe tbody tr th {\n        vertical-align: top;\n    }\n\n    .dataframe thead th {\n        text-align: right;\n    }\n</style>\n<table border=\"1\" class=\"dataframe\">\n  <thead>\n    <tr style=\"text-align: right;\">\n      <th></th>\n      <th>_id</th>\n      <th>Transaction_date</th>\n      <th>Product</th>\n      <th>Price</th>\n      <th>Payment_Type</th>\n      <th>Name</th>\n      <th>City</th>\n      <th>State</th>\n      <th>Country</th>\n      <th>Account_Created</th>\n      <th>Last_Login</th>\n      <th>Latitude</th>\n      <th>Longitude</th>\n    </tr>\n  </thead>\n  <tbody>\n    <tr>\n      <th>1</th>\n      <td>5f903839acd166c1735d9216</td>\n      <td>1/5/09 4:10</td>\n      <td>Product1</td>\n      <td>1200</td>\n      <td>Mastercard</td>\n      <td>Nicola</td>\n      <td>Roodepoort</td>\n      <td>Gauteng</td>\n      <td>South Africa</td>\n      <td>1/5/09 2:33</td>\n      <td>1/7/09 5:13</td>\n      <td>-26.166667</td>\n      <td>27.866667</td>\n    </tr>\n    <tr>\n      <th>2</th>\n      <td>5f903839acd166c1735d9217</td>\n      <td>1/4/09 13:17</td>\n      <td>Product1</td>\n      <td>1200</td>\n      <td>Mastercard</td>\n      <td>Renee Elisabeth</td>\n      <td>Tel Aviv</td>\n      <td>Tel Aviv</td>\n      <td>Israel</td>\n      <td>1/4/09 13:03</td>\n      <td>1/4/09 22:10</td>\n      <td>32.066667</td>\n      <td>34.766667</td>\n    </tr>\n    <tr>\n      <th>3</th>\n      <td>5f903839acd166c1735d9218</td>\n      <td>1/2/09 6:17</td>\n      <td>Product1</td>\n      <td>1200</td>\n      <td>Mastercard</td>\n      <td>carolina</td>\n      <td>Basildon</td>\n      <td>England</td>\n      <td>United Kingdom</td>\n      <td>1/2/09 6:00</td>\n      <td>1/2/09 6:08</td>\n      <td>51.500000</td>\n      <td>-1.116667</td>\n    </tr>\n    <tr>\n      <th>6</th>\n      <td>5f903839acd166c1735d921b</td>\n      <td>1/5/09 8:58</td>\n      <td>Product2</td>\n      <td>3600</td>\n      <td>Mastercard</td>\n      <td>Marcia</td>\n      <td>Telgte</td>\n      <td>Nordrhein-Westfalen</td>\n      <td>Germany</td>\n      <td>9/1/08 3:39</td>\n      <td>1/14/09 2:07</td>\n      <td>52.333333</td>\n      <td>7.900000</td>\n    </tr>\n    <tr>\n      <th>9</th>\n      <td>5f903839acd166c1735d921e</td>\n      <td>1/15/09 12:54</td>\n      <td>Product1</td>\n      <td>1200</td>\n      <td>Mastercard</td>\n      <td>Annelies</td>\n      <td>Ile-Perrot</td>\n      <td>Quebec</td>\n      <td>Canada</td>\n      <td>1/15/09 12:22</td>\n      <td>1/16/09 7:53</td>\n      <td>45.400000</td>\n      <td>-73.933333</td>\n    </tr>\n    <tr>\n      <th>15</th>\n      <td>5f903839acd166c1735d9224</td>\n      <td>1/12/09 15:12</td>\n      <td>Product1</td>\n      <td>1200</td>\n      <td>Mastercard</td>\n      <td>David</td>\n      <td>Deptford</td>\n      <td>NJ</td>\n      <td>United States</td>\n      <td>1/12/09 14:07</td>\n      <td>1/19/09 3:47</td>\n      <td>39.838060</td>\n      <td>-75.153060</td>\n    </tr>\n    <tr>\n      <th>16</th>\n      <td>5f903839acd166c1735d9225</td>\n      <td>1/19/09 16:10</td>\n      <td>Product1</td>\n      <td>1200</td>\n      <td>Mastercard</td>\n      <td>Frank</td>\n      <td>Old Greenwich</td>\n      <td>CT</td>\n      <td>United States</td>\n      <td>1/19/09 15:31</td>\n      <td>1/19/09 16:00</td>\n      <td>41.022780</td>\n      <td>-73.565280</td>\n    </tr>\n    <tr>\n      <th>17</th>\n      <td>5f903839acd166c1735d9226</td>\n      <td>1/20/09 6:03</td>\n      <td>Product1</td>\n      <td>1200</td>\n      <td>Mastercard</td>\n      <td>Andrea</td>\n      <td>Shreveport</td>\n      <td>LA</td>\n      <td>United States</td>\n      <td>1/20/09 5:13</td>\n      <td>1/20/09 7:15</td>\n      <td>32.525000</td>\n      <td>-93.750000</td>\n    </tr>\n    <tr>\n      <th>26</th>\n      <td>5f903839acd166c1735d922f</td>\n      <td>1/4/09 9:54</td>\n      <td>Product1</td>\n      <td>1200</td>\n      <td>Mastercard</td>\n      <td>AMY</td>\n      <td>The Woodlands</td>\n      <td>TX</td>\n      <td>United States</td>\n      <td>12/30/08 20:41</td>\n      <td>1/25/09 18:23</td>\n      <td>30.157780</td>\n      <td>-95.489170</td>\n    </tr>\n    <tr>\n      <th>27</th>\n      <td>5f903839acd166c1735d9230</td>\n      <td>1/22/09 15:32</td>\n      <td>Product1</td>\n      <td>1200</td>\n      <td>Mastercard</td>\n      <td>Tara</td>\n      <td>Killiney</td>\n      <td>Dublin</td>\n      <td>Ireland</td>\n      <td>2/27/07 11:35</td>\n      <td>1/26/09 4:32</td>\n      <td>53.252222</td>\n      <td>-6.112500</td>\n    </tr>\n    <tr>\n      <th>34</th>\n      <td>5f903839acd166c1735d9237</td>\n      <td>1/17/09 11:09</td>\n      <td>Product1</td>\n      <td>1200</td>\n      <td>Mastercard</td>\n      <td>Joachim</td>\n      <td>Fortaleza</td>\n      <td>Ceara</td>\n      <td>Brazil</td>\n      <td>1/17/09 10:46</td>\n      <td>1/31/09 6:42</td>\n      <td>-3.716667</td>\n      <td>-38.500000</td>\n    </tr>\n    <tr>\n      <th>35</th>\n      <td>5f903839acd166c1735d9238</td>\n      <td>1/31/09 11:14</td>\n      <td>Product2</td>\n      <td>3600</td>\n      <td>Mastercard</td>\n      <td>Ulrika</td>\n      <td>Scottsdale</td>\n      <td>AZ</td>\n      <td>United States</td>\n      <td>1/31/09 11:10</td>\n      <td>1/31/09 11:10</td>\n      <td>33.509170</td>\n      <td>-111.898330</td>\n    </tr>\n    <tr>\n      <th>38</th>\n      <td>5f903839acd166c1735d923b</td>\n      <td>1/5/09 12:41</td>\n      <td>Product1</td>\n      <td>1200</td>\n      <td>Mastercard</td>\n      <td>Kathryn</td>\n      <td>Pacific Beach</td>\n      <td>CA</td>\n      <td>United States</td>\n      <td>1/5/09 11:50</td>\n      <td>2/1/09 14:28</td>\n      <td>32.797780</td>\n      <td>-117.239440</td>\n    </tr>\n    <tr>\n      <th>39</th>\n      <td>5f903839acd166c1735d923c</td>\n      <td>1/4/09 21:08</td>\n      <td>Product1</td>\n      <td>1200</td>\n      <td>Mastercard</td>\n      <td>Christyna</td>\n      <td>Calgary</td>\n      <td>Alberta</td>\n      <td>Canada</td>\n      <td>1/21/08 20:11</td>\n      <td>2/2/09 18:50</td>\n      <td>51.083333</td>\n      <td>-114.083333</td>\n    </tr>\n    <tr>\n      <th>40</th>\n      <td>5f903839acd166c1735d923d</td>\n      <td>1/19/09 14:53</td>\n      <td>Product1</td>\n      <td>1200</td>\n      <td>Mastercard</td>\n      <td>Laura</td>\n      <td>Fairfield</td>\n      <td>IA</td>\n      <td>United States</td>\n      <td>12/12/08 5:18</td>\n      <td>2/3/09 5:40</td>\n      <td>41.008610</td>\n      <td>-91.962500</td>\n    </tr>\n    <tr>\n      <th>46</th>\n      <td>5f903839acd166c1735d9243</td>\n      <td>1/29/09 6:49</td>\n      <td>Product1</td>\n      <td>1200</td>\n      <td>Mastercard</td>\n      <td>Carmela</td>\n      <td>Hannover</td>\n      <td>Lower Saxony</td>\n      <td>Germany</td>\n      <td>4/2/08 2:39</td>\n      <td>2/6/09 6:52</td>\n      <td>52.366667</td>\n      <td>9.716667</td>\n    </tr>\n    <tr>\n      <th>47</th>\n      <td>5f903839acd166c1735d9244</td>\n      <td>1/27/09 6:26</td>\n      <td>Product1</td>\n      <td>1200</td>\n      <td>Mastercard</td>\n      <td>Michele</td>\n      <td>Buffalo</td>\n      <td>NY</td>\n      <td>United States</td>\n      <td>1/25/09 11:56</td>\n      <td>2/6/09 18:24</td>\n      <td>42.886390</td>\n      <td>-78.878610</td>\n    </tr>\n  </tbody>\n</table>\n</div>"
     },
     "execution_count": 31,
     "metadata": {},
     "output_type": "execute_result"
    }
   ],
   "source": [
    "%%time\n",
    "\n",
    "df = get_domain('sales')\n",
    "filter(df, 'Payment_Type', 'Mastercard')"
   ],
   "metadata": {
    "collapsed": false,
    "pycharm": {
     "name": "#%%\n"
    }
   }
  }
 ],
 "metadata": {
  "kernelspec": {
   "display_name": "Python 3",
   "language": "python",
   "name": "python3"
  },
  "language_info": {
   "codemirror_mode": {
    "name": "ipython",
    "version": 3
   },
   "file_extension": ".py",
   "mimetype": "text/x-python",
   "name": "python",
   "nbconvert_exporter": "python",
   "pygments_lexer": "ipython3",
   "version": "3.8.6"
  }
 },
 "nbformat": 4,
 "nbformat_minor": 4
}