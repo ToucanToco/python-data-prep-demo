{
 "cells": [
  {
   "cell_type": "code",
   "execution_count": 3,
   "metadata": {
    "scrolled": true
   },
   "outputs": [
    {
     "name": "stdout",
     "output_type": "stream",
     "text": [
      "Requirement already satisfied: docker in /home/david/.pyenv/versions/3.8.6/envs/python-data-prep/lib/python3.8/site-packages (4.3.1)\r\n",
      "Requirement already satisfied: pymongo in /home/david/.pyenv/versions/3.8.6/envs/python-data-prep/lib/python3.8/site-packages (3.11.0)\r\n",
      "Requirement already satisfied: pandas in /home/david/.pyenv/versions/3.8.6/envs/python-data-prep/lib/python3.8/site-packages (1.1.3)\r\n",
      "Requirement already satisfied: websocket-client>=0.32.0 in /home/david/.pyenv/versions/3.8.6/envs/python-data-prep/lib/python3.8/site-packages (from docker) (0.57.0)\r\n",
      "Requirement already satisfied: six>=1.4.0 in /home/david/.pyenv/versions/3.8.6/envs/python-data-prep/lib/python3.8/site-packages (from docker) (1.15.0)\r\n",
      "Requirement already satisfied: requests!=2.18.0,>=2.14.2 in /home/david/.pyenv/versions/3.8.6/envs/python-data-prep/lib/python3.8/site-packages (from docker) (2.24.0)\r\n",
      "Requirement already satisfied: pytz>=2017.2 in /home/david/.pyenv/versions/3.8.6/envs/python-data-prep/lib/python3.8/site-packages (from pandas) (2020.1)\r\n",
      "Requirement already satisfied: numpy>=1.15.4 in /home/david/.pyenv/versions/3.8.6/envs/python-data-prep/lib/python3.8/site-packages (from pandas) (1.19.2)\r\n",
      "Requirement already satisfied: python-dateutil>=2.7.3 in /home/david/.pyenv/versions/3.8.6/envs/python-data-prep/lib/python3.8/site-packages (from pandas) (2.8.1)\r\n",
      "Requirement already satisfied: urllib3!=1.25.0,!=1.25.1,<1.26,>=1.21.1 in /home/david/.pyenv/versions/3.8.6/envs/python-data-prep/lib/python3.8/site-packages (from requests!=2.18.0,>=2.14.2->docker) (1.25.11)\r\n",
      "Requirement already satisfied: chardet<4,>=3.0.2 in /home/david/.pyenv/versions/3.8.6/envs/python-data-prep/lib/python3.8/site-packages (from requests!=2.18.0,>=2.14.2->docker) (3.0.4)\r\n",
      "Requirement already satisfied: certifi>=2017.4.17 in /home/david/.pyenv/versions/3.8.6/envs/python-data-prep/lib/python3.8/site-packages (from requests!=2.18.0,>=2.14.2->docker) (2020.6.20)\r\n",
      "Requirement already satisfied: idna<3,>=2.5 in /home/david/.pyenv/versions/3.8.6/envs/python-data-prep/lib/python3.8/site-packages (from requests!=2.18.0,>=2.14.2->docker) (2.10)\r\n",
      "\u001B[33mWARNING: You are using pip version 20.2.1; however, version 20.2.4 is available.\r\n",
      "You should consider upgrading via the '/home/david/.pyenv/versions/3.8.6/envs/python-data-prep/bin/python3.8 -m pip install --upgrade pip' command.\u001B[0m\r\n",
      "Note: you may need to restart the kernel to use updated packages.\n"
     ]
    }
   ],
   "source": [
    "%pip install docker pymongo pandas"
   ]
  },
  {
   "cell_type": "markdown",
   "source": [
    "Setup mongo and import data"
   ],
   "metadata": {
    "collapsed": false,
    "pycharm": {
     "name": "#%% md\n"
    }
   }
  },
  {
   "cell_type": "code",
   "execution_count": 4,
   "metadata": {},
   "outputs": [],
   "source": [
    "import os\n",
    "import docker\n",
    "\n",
    "docker_client = docker.from_env()\n",
    "MONGO_PORT = 27018\n",
    "\n",
    "mongo_container = docker_client.containers.run(\n",
    "    'mongo:latest',\n",
    "    detach=True,\n",
    "    name='mongo-data-prep',\n",
    "    remove=True,\n",
    "    ports={'27017/tcp': MONGO_PORT},\n",
    "    mem_limit='2G',\n",
    "    volumes={\n",
    "        os.path.join(os.getcwd(), 'db'): {'bind': '/data/db', 'mode': 'rw'},\n",
    "    }\n",
    ")"
   ]
  },
  {
   "cell_type": "code",
   "execution_count": 5,
   "metadata": {},
   "outputs": [],
   "source": [
    "from pymongo import MongoClient\n",
    "mongo_client = MongoClient('127.0.0.1', MONGO_PORT)\n",
    "db = mongo_client['data-prep']"
   ]
  },
  {
   "cell_type": "code",
   "execution_count": 6,
   "metadata": {
    "scrolled": true
   },
   "outputs": [],
   "source": [
    "sales_small_col = db.get_collection('sales-small')\n",
    "sales_small_col.drop()"
   ]
  },
  {
   "cell_type": "code",
   "execution_count": 7,
   "metadata": {},
   "outputs": [
    {
     "data": {
      "text/plain": "<pymongo.results.InsertManyResult at 0x7f506c771780>"
     },
     "execution_count": 7,
     "metadata": {},
     "output_type": "execute_result"
    }
   ],
   "source": [
    "from pathlib import Path\n",
    "import json\n",
    "sales_small_data = json.loads(Path('/home/david/dev/toucan-toco/python-data-prep/data/sales-small.json').read_text())\n",
    "sales_small_col.insert_many(sales_small_data['data'])"
   ]
  },
  {
   "cell_type": "code",
   "execution_count": 8,
   "outputs": [],
   "source": [
    "import pandas as pd"
   ],
   "metadata": {
    "collapsed": false,
    "pycharm": {
     "name": "#%%\n"
    }
   }
  },
  {
   "cell_type": "markdown",
   "source": [
    "1. Simulating a simple weaverbird pipeline with just a filter, on a very small domain:"
   ],
   "metadata": {
    "collapsed": false
   }
  },
  {
   "cell_type": "code",
   "execution_count": 9,
   "outputs": [],
   "source": [
    "'''\n",
    "{\n",
    "    \"domain\": \"sales-small\",\n",
    "    \"name\": \"domain\"\n",
    "},\n",
    "'''\n",
    "def get_domain(domain):\n",
    "    return pd.DataFrame(db.get_collection(domain).find({}))\n",
    "df = get_domain('sales-small')"
   ],
   "metadata": {
    "collapsed": false,
    "pycharm": {
     "name": "#%%\n"
    }
   }
  },
  {
   "cell_type": "code",
   "execution_count": 10,
   "outputs": [],
   "source": [
    "'''\n",
    "{\n",
    "    \"name\": \"filter\",\n",
    "    \"condition\": {\n",
    "      \"column\": \"Payment_Type\",\n",
    "      \"operator\": \"eq\",\n",
    "      \"value\": \"Mastercard\"\n",
    "    }\n",
    "}\n",
    "'''\n",
    "def filter(df, column, value):\n",
    "    return df[df[column] == value]\n",
    "df1 = filter(df, 'Payment_Type', 'Mastercard')"
   ],
   "metadata": {
    "collapsed": false,
    "pycharm": {
     "name": "#%%\n"
    }
   }
  },
  {
   "cell_type": "code",
   "execution_count": 11,
   "outputs": [
    {
     "name": "stdout",
     "output_type": "stream",
     "text": [
      "CPU times: user 7.71 ms, sys: 0 ns, total: 7.71 ms\n",
      "Wall time: 7.8 ms\n"
     ]
    },
    {
     "data": {
      "text/plain": "                         _id Transaction_date   Product  Price Payment_Type  \\\n1   5f9142baee2fc549d19201bd      1/5/09 4:10  Product1   1200   Mastercard   \n2   5f9142baee2fc549d19201be     1/4/09 13:17  Product1   1200   Mastercard   \n3   5f9142baee2fc549d19201bf      1/2/09 6:17  Product1   1200   Mastercard   \n6   5f9142baee2fc549d19201c2      1/5/09 8:58  Product2   3600   Mastercard   \n9   5f9142baee2fc549d19201c5    1/15/09 12:54  Product1   1200   Mastercard   \n15  5f9142baee2fc549d19201cb    1/12/09 15:12  Product1   1200   Mastercard   \n16  5f9142baee2fc549d19201cc    1/19/09 16:10  Product1   1200   Mastercard   \n17  5f9142baee2fc549d19201cd     1/20/09 6:03  Product1   1200   Mastercard   \n26  5f9142baee2fc549d19201d6      1/4/09 9:54  Product1   1200   Mastercard   \n27  5f9142baee2fc549d19201d7    1/22/09 15:32  Product1   1200   Mastercard   \n34  5f9142baee2fc549d19201de    1/17/09 11:09  Product1   1200   Mastercard   \n35  5f9142baee2fc549d19201df    1/31/09 11:14  Product2   3600   Mastercard   \n38  5f9142baee2fc549d19201e2     1/5/09 12:41  Product1   1200   Mastercard   \n39  5f9142baee2fc549d19201e3     1/4/09 21:08  Product1   1200   Mastercard   \n40  5f9142baee2fc549d19201e4    1/19/09 14:53  Product1   1200   Mastercard   \n46  5f9142baee2fc549d19201ea     1/29/09 6:49  Product1   1200   Mastercard   \n47  5f9142baee2fc549d19201eb     1/27/09 6:26  Product1   1200   Mastercard   \n\n               Name           City                State         Country  \\\n1            Nicola     Roodepoort              Gauteng    South Africa   \n2   Renee Elisabeth       Tel Aviv             Tel Aviv          Israel   \n3          carolina       Basildon              England  United Kingdom   \n6            Marcia         Telgte  Nordrhein-Westfalen         Germany   \n9          Annelies     Ile-Perrot               Quebec          Canada   \n15            David       Deptford                   NJ   United States   \n16            Frank  Old Greenwich                   CT   United States   \n17           Andrea     Shreveport                   LA   United States   \n26              AMY  The Woodlands                   TX   United States   \n27             Tara       Killiney               Dublin         Ireland   \n34          Joachim      Fortaleza                Ceara          Brazil   \n35           Ulrika     Scottsdale                   AZ   United States   \n38          Kathryn  Pacific Beach                   CA   United States   \n39        Christyna        Calgary              Alberta          Canada   \n40            Laura      Fairfield                   IA   United States   \n46          Carmela       Hannover         Lower Saxony         Germany   \n47          Michele        Buffalo                   NY   United States   \n\n   Account_Created     Last_Login   Latitude   Longitude  \n1      1/5/09 2:33    1/7/09 5:13 -26.166667   27.866667  \n2     1/4/09 13:03   1/4/09 22:10  32.066667   34.766667  \n3      1/2/09 6:00    1/2/09 6:08  51.500000   -1.116667  \n6      9/1/08 3:39   1/14/09 2:07  52.333333    7.900000  \n9    1/15/09 12:22   1/16/09 7:53  45.400000  -73.933333  \n15   1/12/09 14:07   1/19/09 3:47  39.838060  -75.153060  \n16   1/19/09 15:31  1/19/09 16:00  41.022780  -73.565280  \n17    1/20/09 5:13   1/20/09 7:15  32.525000  -93.750000  \n26  12/30/08 20:41  1/25/09 18:23  30.157780  -95.489170  \n27   2/27/07 11:35   1/26/09 4:32  53.252222   -6.112500  \n34   1/17/09 10:46   1/31/09 6:42  -3.716667  -38.500000  \n35   1/31/09 11:10  1/31/09 11:10  33.509170 -111.898330  \n38    1/5/09 11:50   2/1/09 14:28  32.797780 -117.239440  \n39   1/21/08 20:11   2/2/09 18:50  51.083333 -114.083333  \n40   12/12/08 5:18    2/3/09 5:40  41.008610  -91.962500  \n46     4/2/08 2:39    2/6/09 6:52  52.366667    9.716667  \n47   1/25/09 11:56   2/6/09 18:24  42.886390  -78.878610  ",
      "text/html": "<div>\n<style scoped>\n    .dataframe tbody tr th:only-of-type {\n        vertical-align: middle;\n    }\n\n    .dataframe tbody tr th {\n        vertical-align: top;\n    }\n\n    .dataframe thead th {\n        text-align: right;\n    }\n</style>\n<table border=\"1\" class=\"dataframe\">\n  <thead>\n    <tr style=\"text-align: right;\">\n      <th></th>\n      <th>_id</th>\n      <th>Transaction_date</th>\n      <th>Product</th>\n      <th>Price</th>\n      <th>Payment_Type</th>\n      <th>Name</th>\n      <th>City</th>\n      <th>State</th>\n      <th>Country</th>\n      <th>Account_Created</th>\n      <th>Last_Login</th>\n      <th>Latitude</th>\n      <th>Longitude</th>\n    </tr>\n  </thead>\n  <tbody>\n    <tr>\n      <th>1</th>\n      <td>5f9142baee2fc549d19201bd</td>\n      <td>1/5/09 4:10</td>\n      <td>Product1</td>\n      <td>1200</td>\n      <td>Mastercard</td>\n      <td>Nicola</td>\n      <td>Roodepoort</td>\n      <td>Gauteng</td>\n      <td>South Africa</td>\n      <td>1/5/09 2:33</td>\n      <td>1/7/09 5:13</td>\n      <td>-26.166667</td>\n      <td>27.866667</td>\n    </tr>\n    <tr>\n      <th>2</th>\n      <td>5f9142baee2fc549d19201be</td>\n      <td>1/4/09 13:17</td>\n      <td>Product1</td>\n      <td>1200</td>\n      <td>Mastercard</td>\n      <td>Renee Elisabeth</td>\n      <td>Tel Aviv</td>\n      <td>Tel Aviv</td>\n      <td>Israel</td>\n      <td>1/4/09 13:03</td>\n      <td>1/4/09 22:10</td>\n      <td>32.066667</td>\n      <td>34.766667</td>\n    </tr>\n    <tr>\n      <th>3</th>\n      <td>5f9142baee2fc549d19201bf</td>\n      <td>1/2/09 6:17</td>\n      <td>Product1</td>\n      <td>1200</td>\n      <td>Mastercard</td>\n      <td>carolina</td>\n      <td>Basildon</td>\n      <td>England</td>\n      <td>United Kingdom</td>\n      <td>1/2/09 6:00</td>\n      <td>1/2/09 6:08</td>\n      <td>51.500000</td>\n      <td>-1.116667</td>\n    </tr>\n    <tr>\n      <th>6</th>\n      <td>5f9142baee2fc549d19201c2</td>\n      <td>1/5/09 8:58</td>\n      <td>Product2</td>\n      <td>3600</td>\n      <td>Mastercard</td>\n      <td>Marcia</td>\n      <td>Telgte</td>\n      <td>Nordrhein-Westfalen</td>\n      <td>Germany</td>\n      <td>9/1/08 3:39</td>\n      <td>1/14/09 2:07</td>\n      <td>52.333333</td>\n      <td>7.900000</td>\n    </tr>\n    <tr>\n      <th>9</th>\n      <td>5f9142baee2fc549d19201c5</td>\n      <td>1/15/09 12:54</td>\n      <td>Product1</td>\n      <td>1200</td>\n      <td>Mastercard</td>\n      <td>Annelies</td>\n      <td>Ile-Perrot</td>\n      <td>Quebec</td>\n      <td>Canada</td>\n      <td>1/15/09 12:22</td>\n      <td>1/16/09 7:53</td>\n      <td>45.400000</td>\n      <td>-73.933333</td>\n    </tr>\n    <tr>\n      <th>15</th>\n      <td>5f9142baee2fc549d19201cb</td>\n      <td>1/12/09 15:12</td>\n      <td>Product1</td>\n      <td>1200</td>\n      <td>Mastercard</td>\n      <td>David</td>\n      <td>Deptford</td>\n      <td>NJ</td>\n      <td>United States</td>\n      <td>1/12/09 14:07</td>\n      <td>1/19/09 3:47</td>\n      <td>39.838060</td>\n      <td>-75.153060</td>\n    </tr>\n    <tr>\n      <th>16</th>\n      <td>5f9142baee2fc549d19201cc</td>\n      <td>1/19/09 16:10</td>\n      <td>Product1</td>\n      <td>1200</td>\n      <td>Mastercard</td>\n      <td>Frank</td>\n      <td>Old Greenwich</td>\n      <td>CT</td>\n      <td>United States</td>\n      <td>1/19/09 15:31</td>\n      <td>1/19/09 16:00</td>\n      <td>41.022780</td>\n      <td>-73.565280</td>\n    </tr>\n    <tr>\n      <th>17</th>\n      <td>5f9142baee2fc549d19201cd</td>\n      <td>1/20/09 6:03</td>\n      <td>Product1</td>\n      <td>1200</td>\n      <td>Mastercard</td>\n      <td>Andrea</td>\n      <td>Shreveport</td>\n      <td>LA</td>\n      <td>United States</td>\n      <td>1/20/09 5:13</td>\n      <td>1/20/09 7:15</td>\n      <td>32.525000</td>\n      <td>-93.750000</td>\n    </tr>\n    <tr>\n      <th>26</th>\n      <td>5f9142baee2fc549d19201d6</td>\n      <td>1/4/09 9:54</td>\n      <td>Product1</td>\n      <td>1200</td>\n      <td>Mastercard</td>\n      <td>AMY</td>\n      <td>The Woodlands</td>\n      <td>TX</td>\n      <td>United States</td>\n      <td>12/30/08 20:41</td>\n      <td>1/25/09 18:23</td>\n      <td>30.157780</td>\n      <td>-95.489170</td>\n    </tr>\n    <tr>\n      <th>27</th>\n      <td>5f9142baee2fc549d19201d7</td>\n      <td>1/22/09 15:32</td>\n      <td>Product1</td>\n      <td>1200</td>\n      <td>Mastercard</td>\n      <td>Tara</td>\n      <td>Killiney</td>\n      <td>Dublin</td>\n      <td>Ireland</td>\n      <td>2/27/07 11:35</td>\n      <td>1/26/09 4:32</td>\n      <td>53.252222</td>\n      <td>-6.112500</td>\n    </tr>\n    <tr>\n      <th>34</th>\n      <td>5f9142baee2fc549d19201de</td>\n      <td>1/17/09 11:09</td>\n      <td>Product1</td>\n      <td>1200</td>\n      <td>Mastercard</td>\n      <td>Joachim</td>\n      <td>Fortaleza</td>\n      <td>Ceara</td>\n      <td>Brazil</td>\n      <td>1/17/09 10:46</td>\n      <td>1/31/09 6:42</td>\n      <td>-3.716667</td>\n      <td>-38.500000</td>\n    </tr>\n    <tr>\n      <th>35</th>\n      <td>5f9142baee2fc549d19201df</td>\n      <td>1/31/09 11:14</td>\n      <td>Product2</td>\n      <td>3600</td>\n      <td>Mastercard</td>\n      <td>Ulrika</td>\n      <td>Scottsdale</td>\n      <td>AZ</td>\n      <td>United States</td>\n      <td>1/31/09 11:10</td>\n      <td>1/31/09 11:10</td>\n      <td>33.509170</td>\n      <td>-111.898330</td>\n    </tr>\n    <tr>\n      <th>38</th>\n      <td>5f9142baee2fc549d19201e2</td>\n      <td>1/5/09 12:41</td>\n      <td>Product1</td>\n      <td>1200</td>\n      <td>Mastercard</td>\n      <td>Kathryn</td>\n      <td>Pacific Beach</td>\n      <td>CA</td>\n      <td>United States</td>\n      <td>1/5/09 11:50</td>\n      <td>2/1/09 14:28</td>\n      <td>32.797780</td>\n      <td>-117.239440</td>\n    </tr>\n    <tr>\n      <th>39</th>\n      <td>5f9142baee2fc549d19201e3</td>\n      <td>1/4/09 21:08</td>\n      <td>Product1</td>\n      <td>1200</td>\n      <td>Mastercard</td>\n      <td>Christyna</td>\n      <td>Calgary</td>\n      <td>Alberta</td>\n      <td>Canada</td>\n      <td>1/21/08 20:11</td>\n      <td>2/2/09 18:50</td>\n      <td>51.083333</td>\n      <td>-114.083333</td>\n    </tr>\n    <tr>\n      <th>40</th>\n      <td>5f9142baee2fc549d19201e4</td>\n      <td>1/19/09 14:53</td>\n      <td>Product1</td>\n      <td>1200</td>\n      <td>Mastercard</td>\n      <td>Laura</td>\n      <td>Fairfield</td>\n      <td>IA</td>\n      <td>United States</td>\n      <td>12/12/08 5:18</td>\n      <td>2/3/09 5:40</td>\n      <td>41.008610</td>\n      <td>-91.962500</td>\n    </tr>\n    <tr>\n      <th>46</th>\n      <td>5f9142baee2fc549d19201ea</td>\n      <td>1/29/09 6:49</td>\n      <td>Product1</td>\n      <td>1200</td>\n      <td>Mastercard</td>\n      <td>Carmela</td>\n      <td>Hannover</td>\n      <td>Lower Saxony</td>\n      <td>Germany</td>\n      <td>4/2/08 2:39</td>\n      <td>2/6/09 6:52</td>\n      <td>52.366667</td>\n      <td>9.716667</td>\n    </tr>\n    <tr>\n      <th>47</th>\n      <td>5f9142baee2fc549d19201eb</td>\n      <td>1/27/09 6:26</td>\n      <td>Product1</td>\n      <td>1200</td>\n      <td>Mastercard</td>\n      <td>Michele</td>\n      <td>Buffalo</td>\n      <td>NY</td>\n      <td>United States</td>\n      <td>1/25/09 11:56</td>\n      <td>2/6/09 18:24</td>\n      <td>42.886390</td>\n      <td>-78.878610</td>\n    </tr>\n  </tbody>\n</table>\n</div>"
     },
     "execution_count": 11,
     "metadata": {},
     "output_type": "execute_result"
    }
   ],
   "source": [
    "%%time\n",
    "\n",
    "'''\n",
    "Whole pipeline\n",
    "'''\n",
    "\n",
    "df = get_domain('sales-small')\n",
    "filter(df, 'Payment_Type', 'Mastercard')"
   ],
   "metadata": {
    "collapsed": false,
    "pycharm": {
     "name": "#%%\n"
    }
   }
  },
  {
   "cell_type": "markdown",
   "source": [
    "2. Simulating a groupby, keeping the original format, on larger domain"
   ],
   "metadata": {
    "collapsed": false,
    "pycharm": {
     "name": "#%% md\n"
    }
   }
  },
  {
   "cell_type": "code",
   "execution_count": 12,
   "outputs": [
    {
     "name": "stderr",
     "output_type": "stream",
     "text": [
      "/home/david/.pyenv/versions/3.8.6/envs/python-data-prep/lib/python3.8/site-packages/pandas/core/frame.py:1485: FutureWarning: Using short name for 'orient' is deprecated. Only the options: ('dict', list, 'series', 'split', 'records', 'index') will be used in a future version. Use one of the above to silence this warning.\n",
      "  warnings.warn(\n"
     ]
    },
    {
     "data": {
      "text/plain": "<pymongo.results.InsertManyResult at 0x7f501d2cc240>"
     },
     "execution_count": 12,
     "metadata": {},
     "output_type": "execute_result"
    }
   ],
   "source": [
    "sales_col = db.get_collection('sales')\n",
    "sales_col.drop()\n",
    "data = pd.read_csv('/home/david/dev/toucan-toco/python-data-prep/data/sales.csv').to_dict(orient='rows')\n",
    "sales_col.insert_many(data)\n"
   ],
   "metadata": {
    "collapsed": false,
    "pycharm": {
     "name": "#%%\n"
    }
   }
  },
  {
   "cell_type": "code",
   "execution_count": 20,
   "outputs": [
    {
     "name": "stdout",
     "output_type": "stream",
     "text": [
      "CPU times: user 2.76 s, sys: 47.7 ms, total: 2.81 s\n",
      "Wall time: 3.03 s\n",
      "CPU times: user 80.2 ms, sys: 0 ns, total: 80.2 ms\n",
      "Wall time: 81.9 ms\n",
      "CPU times: user 2.84 s, sys: 47.8 ms, total: 2.89 s\n",
      "Wall time: 3.11 s\n"
     ]
    },
    {
     "data": {
      "text/plain": "                             _id  STORE_ID  DEPT_ID        DATE  WEEKLY_SALES  \\\n0       5f9142bdee2fc549d19201ee         1        1  05/02/2010      24924.50   \n1       5f9142bdee2fc549d19201ef         1        1  12/02/2010      46039.49   \n2       5f9142bdee2fc549d19201f0         1        1  19/02/2010      41595.55   \n3       5f9142bdee2fc549d19201f1         1        1  26/02/2010      19403.54   \n4       5f9142bdee2fc549d19201f2         1        1  05/03/2010      21827.90   \n...                          ...       ...      ...         ...           ...   \n421565  5f9142c0ee2fc549d19870ab        45       98  28/09/2012        508.37   \n421566  5f9142c0ee2fc549d19870ac        45       98  05/10/2012        628.10   \n421567  5f9142c0ee2fc549d19870ad        45       98  12/10/2012       1061.02   \n421568  5f9142c0ee2fc549d19870ae        45       98  19/10/2012        760.01   \n421569  5f9142c0ee2fc549d19870af        45       98  26/10/2012       1076.80   \n\n        WEEKLY_SALES-sum  \n0            49750740.50  \n1            48336677.63  \n2            48276993.78  \n3            43968571.13  \n4            46871470.30  \n...                  ...  \n421565       43734899.40  \n421566       47566639.31  \n421567       46128514.25  \n421568       45122410.57  \n421569       45544116.29  \n\n[421570 rows x 6 columns]",
      "text/html": "<div>\n<style scoped>\n    .dataframe tbody tr th:only-of-type {\n        vertical-align: middle;\n    }\n\n    .dataframe tbody tr th {\n        vertical-align: top;\n    }\n\n    .dataframe thead th {\n        text-align: right;\n    }\n</style>\n<table border=\"1\" class=\"dataframe\">\n  <thead>\n    <tr style=\"text-align: right;\">\n      <th></th>\n      <th>_id</th>\n      <th>STORE_ID</th>\n      <th>DEPT_ID</th>\n      <th>DATE</th>\n      <th>WEEKLY_SALES</th>\n      <th>WEEKLY_SALES-sum</th>\n    </tr>\n  </thead>\n  <tbody>\n    <tr>\n      <th>0</th>\n      <td>5f9142bdee2fc549d19201ee</td>\n      <td>1</td>\n      <td>1</td>\n      <td>05/02/2010</td>\n      <td>24924.50</td>\n      <td>49750740.50</td>\n    </tr>\n    <tr>\n      <th>1</th>\n      <td>5f9142bdee2fc549d19201ef</td>\n      <td>1</td>\n      <td>1</td>\n      <td>12/02/2010</td>\n      <td>46039.49</td>\n      <td>48336677.63</td>\n    </tr>\n    <tr>\n      <th>2</th>\n      <td>5f9142bdee2fc549d19201f0</td>\n      <td>1</td>\n      <td>1</td>\n      <td>19/02/2010</td>\n      <td>41595.55</td>\n      <td>48276993.78</td>\n    </tr>\n    <tr>\n      <th>3</th>\n      <td>5f9142bdee2fc549d19201f1</td>\n      <td>1</td>\n      <td>1</td>\n      <td>26/02/2010</td>\n      <td>19403.54</td>\n      <td>43968571.13</td>\n    </tr>\n    <tr>\n      <th>4</th>\n      <td>5f9142bdee2fc549d19201f2</td>\n      <td>1</td>\n      <td>1</td>\n      <td>05/03/2010</td>\n      <td>21827.90</td>\n      <td>46871470.30</td>\n    </tr>\n    <tr>\n      <th>...</th>\n      <td>...</td>\n      <td>...</td>\n      <td>...</td>\n      <td>...</td>\n      <td>...</td>\n      <td>...</td>\n    </tr>\n    <tr>\n      <th>421565</th>\n      <td>5f9142c0ee2fc549d19870ab</td>\n      <td>45</td>\n      <td>98</td>\n      <td>28/09/2012</td>\n      <td>508.37</td>\n      <td>43734899.40</td>\n    </tr>\n    <tr>\n      <th>421566</th>\n      <td>5f9142c0ee2fc549d19870ac</td>\n      <td>45</td>\n      <td>98</td>\n      <td>05/10/2012</td>\n      <td>628.10</td>\n      <td>47566639.31</td>\n    </tr>\n    <tr>\n      <th>421567</th>\n      <td>5f9142c0ee2fc549d19870ad</td>\n      <td>45</td>\n      <td>98</td>\n      <td>12/10/2012</td>\n      <td>1061.02</td>\n      <td>46128514.25</td>\n    </tr>\n    <tr>\n      <th>421568</th>\n      <td>5f9142c0ee2fc549d19870ae</td>\n      <td>45</td>\n      <td>98</td>\n      <td>19/10/2012</td>\n      <td>760.01</td>\n      <td>45122410.57</td>\n    </tr>\n    <tr>\n      <th>421569</th>\n      <td>5f9142c0ee2fc549d19870af</td>\n      <td>45</td>\n      <td>98</td>\n      <td>26/10/2012</td>\n      <td>1076.80</td>\n      <td>45544116.29</td>\n    </tr>\n  </tbody>\n</table>\n<p>421570 rows × 6 columns</p>\n</div>"
     },
     "execution_count": 20,
     "metadata": {},
     "output_type": "execute_result"
    }
   ],
   "source": [
    "%%time\n",
    "\n",
    "'''\n",
    "[\n",
    "  {\n",
    "    \"domain\": \"sales\",\n",
    "    \"name\": \"domain\"\n",
    "  },\n",
    "  {\n",
    "    \"name\": \"aggregate\",\n",
    "    \"on\": [\n",
    "      \"DATE\"\n",
    "    ],\n",
    "    \"aggregations\": [\n",
    "      {\n",
    "        \"columns\": [\n",
    "          \"WEEKLY_SALES\"\n",
    "        ],\n",
    "        \"newcolumns\": [\n",
    "          \"Transaction_date-sum\"\n",
    "        ],\n",
    "        \"aggfunction\": \"sum\"\n",
    "      }\n",
    "    ],\n",
    "    \"keepOriginalGranularity\": true\n",
    "  }\n",
    "]\n",
    "'''\n",
    "\n",
    "%time df = get_domain('sales')\n",
    "%time df['WEEKLY_SALES-sum'] = df.groupby(by=['DATE'])['WEEKLY_SALES'].transform('sum')\n",
    "df"
   ],
   "metadata": {
    "collapsed": false,
    "pycharm": {
     "name": "#%%\n"
    }
   }
  },
  {
   "cell_type": "code",
   "execution_count": 19,
   "outputs": [
    {
     "ename": "OperationFailure",
     "evalue": "Exceeded memory limit for $group, but didn't allow external sort. Pass allowDiskUse:true to opt in., full error: {'ok': 0.0, 'errmsg': \"Exceeded memory limit for $group, but didn't allow external sort. Pass allowDiskUse:true to opt in.\", 'code': 292, 'codeName': 'QueryExceededMemoryLimitNoDiskUseAllowed'}",
     "output_type": "error",
     "traceback": [
      "\u001B[0;31m---------------------------------------------------------------------------\u001B[0m",
      "\u001B[0;31mOperationFailure\u001B[0m                          Traceback (most recent call last)",
      "\u001B[0;32m<timed exec>\u001B[0m in \u001B[0;36m<module>\u001B[0;34m\u001B[0m\n",
      "\u001B[0;32m~/.pyenv/versions/3.8.6/envs/python-data-prep/lib/python3.8/site-packages/pymongo/collection.py\u001B[0m in \u001B[0;36maggregate\u001B[0;34m(self, pipeline, session, **kwargs)\u001B[0m\n\u001B[1;32m   2451\u001B[0m         \"\"\"\n\u001B[1;32m   2452\u001B[0m         \u001B[0;32mwith\u001B[0m \u001B[0mself\u001B[0m\u001B[0;34m.\u001B[0m\u001B[0m__database\u001B[0m\u001B[0;34m.\u001B[0m\u001B[0mclient\u001B[0m\u001B[0;34m.\u001B[0m\u001B[0m_tmp_session\u001B[0m\u001B[0;34m(\u001B[0m\u001B[0msession\u001B[0m\u001B[0;34m,\u001B[0m \u001B[0mclose\u001B[0m\u001B[0;34m=\u001B[0m\u001B[0;32mFalse\u001B[0m\u001B[0;34m)\u001B[0m \u001B[0;32mas\u001B[0m \u001B[0ms\u001B[0m\u001B[0;34m:\u001B[0m\u001B[0;34m\u001B[0m\u001B[0;34m\u001B[0m\u001B[0m\n\u001B[0;32m-> 2453\u001B[0;31m             return self._aggregate(_CollectionAggregationCommand,\n\u001B[0m\u001B[1;32m   2454\u001B[0m                                    \u001B[0mpipeline\u001B[0m\u001B[0;34m,\u001B[0m\u001B[0;34m\u001B[0m\u001B[0;34m\u001B[0m\u001B[0m\n\u001B[1;32m   2455\u001B[0m                                    \u001B[0mCommandCursor\u001B[0m\u001B[0;34m,\u001B[0m\u001B[0;34m\u001B[0m\u001B[0;34m\u001B[0m\u001B[0m\n",
      "\u001B[0;32m~/.pyenv/versions/3.8.6/envs/python-data-prep/lib/python3.8/site-packages/pymongo/collection.py\u001B[0m in \u001B[0;36m_aggregate\u001B[0;34m(self, aggregation_command, pipeline, cursor_class, session, explicit_session, **kwargs)\u001B[0m\n\u001B[1;32m   2373\u001B[0m             \u001B[0mself\u001B[0m\u001B[0;34m,\u001B[0m \u001B[0mcursor_class\u001B[0m\u001B[0;34m,\u001B[0m \u001B[0mpipeline\u001B[0m\u001B[0;34m,\u001B[0m \u001B[0mkwargs\u001B[0m\u001B[0;34m,\u001B[0m \u001B[0mexplicit_session\u001B[0m\u001B[0;34m,\u001B[0m\u001B[0;34m\u001B[0m\u001B[0;34m\u001B[0m\u001B[0m\n\u001B[1;32m   2374\u001B[0m             user_fields={'cursor': {'firstBatch': 1}}, use_cursor=use_cursor)\n\u001B[0;32m-> 2375\u001B[0;31m         return self.__database.client._retryable_read(\n\u001B[0m\u001B[1;32m   2376\u001B[0m             \u001B[0mcmd\u001B[0m\u001B[0;34m.\u001B[0m\u001B[0mget_cursor\u001B[0m\u001B[0;34m,\u001B[0m \u001B[0mcmd\u001B[0m\u001B[0;34m.\u001B[0m\u001B[0mget_read_preference\u001B[0m\u001B[0;34m(\u001B[0m\u001B[0msession\u001B[0m\u001B[0;34m)\u001B[0m\u001B[0;34m,\u001B[0m \u001B[0msession\u001B[0m\u001B[0;34m,\u001B[0m\u001B[0;34m\u001B[0m\u001B[0;34m\u001B[0m\u001B[0m\n\u001B[1;32m   2377\u001B[0m             retryable=not cmd._performs_write)\n",
      "\u001B[0;32m~/.pyenv/versions/3.8.6/envs/python-data-prep/lib/python3.8/site-packages/pymongo/mongo_client.py\u001B[0m in \u001B[0;36m_retryable_read\u001B[0;34m(self, func, read_pref, session, address, retryable, exhaust)\u001B[0m\n\u001B[1;32m   1469\u001B[0m                         \u001B[0;31m# not support retryable reads, raise the last error.\u001B[0m\u001B[0;34m\u001B[0m\u001B[0;34m\u001B[0m\u001B[0;34m\u001B[0m\u001B[0m\n\u001B[1;32m   1470\u001B[0m                         \u001B[0;32mraise\u001B[0m \u001B[0mlast_error\u001B[0m\u001B[0;34m\u001B[0m\u001B[0;34m\u001B[0m\u001B[0m\n\u001B[0;32m-> 1471\u001B[0;31m                     \u001B[0;32mreturn\u001B[0m \u001B[0mfunc\u001B[0m\u001B[0;34m(\u001B[0m\u001B[0msession\u001B[0m\u001B[0;34m,\u001B[0m \u001B[0mserver\u001B[0m\u001B[0;34m,\u001B[0m \u001B[0msock_info\u001B[0m\u001B[0;34m,\u001B[0m \u001B[0mslave_ok\u001B[0m\u001B[0;34m)\u001B[0m\u001B[0;34m\u001B[0m\u001B[0;34m\u001B[0m\u001B[0m\n\u001B[0m\u001B[1;32m   1472\u001B[0m             \u001B[0;32mexcept\u001B[0m \u001B[0mServerSelectionTimeoutError\u001B[0m\u001B[0;34m:\u001B[0m\u001B[0;34m\u001B[0m\u001B[0;34m\u001B[0m\u001B[0m\n\u001B[1;32m   1473\u001B[0m                 \u001B[0;32mif\u001B[0m \u001B[0mretrying\u001B[0m\u001B[0;34m:\u001B[0m\u001B[0;34m\u001B[0m\u001B[0;34m\u001B[0m\u001B[0m\n",
      "\u001B[0;32m~/.pyenv/versions/3.8.6/envs/python-data-prep/lib/python3.8/site-packages/pymongo/aggregation.py\u001B[0m in \u001B[0;36mget_cursor\u001B[0;34m(self, session, server, sock_info, slave_ok)\u001B[0m\n\u001B[1;32m    134\u001B[0m \u001B[0;34m\u001B[0m\u001B[0m\n\u001B[1;32m    135\u001B[0m         \u001B[0;31m# Run command.\u001B[0m\u001B[0;34m\u001B[0m\u001B[0;34m\u001B[0m\u001B[0;34m\u001B[0m\u001B[0m\n\u001B[0;32m--> 136\u001B[0;31m         result = sock_info.command(\n\u001B[0m\u001B[1;32m    137\u001B[0m             \u001B[0mself\u001B[0m\u001B[0;34m.\u001B[0m\u001B[0m_database\u001B[0m\u001B[0;34m.\u001B[0m\u001B[0mname\u001B[0m\u001B[0;34m,\u001B[0m\u001B[0;34m\u001B[0m\u001B[0;34m\u001B[0m\u001B[0m\n\u001B[1;32m    138\u001B[0m             \u001B[0mcmd\u001B[0m\u001B[0;34m,\u001B[0m\u001B[0;34m\u001B[0m\u001B[0;34m\u001B[0m\u001B[0m\n",
      "\u001B[0;32m~/.pyenv/versions/3.8.6/envs/python-data-prep/lib/python3.8/site-packages/pymongo/pool.py\u001B[0m in \u001B[0;36mcommand\u001B[0;34m(self, dbname, spec, slave_ok, read_preference, codec_options, check, allowable_errors, check_keys, read_concern, write_concern, parse_write_concern_error, collation, session, client, retryable_write, publish_events, user_fields, exhaust_allowed)\u001B[0m\n\u001B[1;32m    681\u001B[0m             \u001B[0mself\u001B[0m\u001B[0;34m.\u001B[0m\u001B[0m_raise_if_not_writable\u001B[0m\u001B[0;34m(\u001B[0m\u001B[0munacknowledged\u001B[0m\u001B[0;34m)\u001B[0m\u001B[0;34m\u001B[0m\u001B[0;34m\u001B[0m\u001B[0m\n\u001B[1;32m    682\u001B[0m         \u001B[0;32mtry\u001B[0m\u001B[0;34m:\u001B[0m\u001B[0;34m\u001B[0m\u001B[0;34m\u001B[0m\u001B[0m\n\u001B[0;32m--> 683\u001B[0;31m             return command(self, dbname, spec, slave_ok,\n\u001B[0m\u001B[1;32m    684\u001B[0m                            \u001B[0mself\u001B[0m\u001B[0;34m.\u001B[0m\u001B[0mis_mongos\u001B[0m\u001B[0;34m,\u001B[0m \u001B[0mread_preference\u001B[0m\u001B[0;34m,\u001B[0m \u001B[0mcodec_options\u001B[0m\u001B[0;34m,\u001B[0m\u001B[0;34m\u001B[0m\u001B[0;34m\u001B[0m\u001B[0m\n\u001B[1;32m    685\u001B[0m                            \u001B[0msession\u001B[0m\u001B[0;34m,\u001B[0m \u001B[0mclient\u001B[0m\u001B[0;34m,\u001B[0m \u001B[0mcheck\u001B[0m\u001B[0;34m,\u001B[0m \u001B[0mallowable_errors\u001B[0m\u001B[0;34m,\u001B[0m\u001B[0;34m\u001B[0m\u001B[0;34m\u001B[0m\u001B[0m\n",
      "\u001B[0;32m~/.pyenv/versions/3.8.6/envs/python-data-prep/lib/python3.8/site-packages/pymongo/network.py\u001B[0m in \u001B[0;36mcommand\u001B[0;34m(sock_info, dbname, spec, slave_ok, is_mongos, read_preference, codec_options, session, client, check, allowable_errors, address, check_keys, listeners, max_bson_size, read_concern, parse_write_concern_error, collation, compression_ctx, use_op_msg, unacknowledged, user_fields, exhaust_allowed)\u001B[0m\n\u001B[1;32m    157\u001B[0m                 \u001B[0mclient\u001B[0m\u001B[0;34m.\u001B[0m\u001B[0m_process_response\u001B[0m\u001B[0;34m(\u001B[0m\u001B[0mresponse_doc\u001B[0m\u001B[0;34m,\u001B[0m \u001B[0msession\u001B[0m\u001B[0;34m)\u001B[0m\u001B[0;34m\u001B[0m\u001B[0;34m\u001B[0m\u001B[0m\n\u001B[1;32m    158\u001B[0m             \u001B[0;32mif\u001B[0m \u001B[0mcheck\u001B[0m\u001B[0;34m:\u001B[0m\u001B[0;34m\u001B[0m\u001B[0;34m\u001B[0m\u001B[0m\n\u001B[0;32m--> 159\u001B[0;31m                 helpers._check_command_response(\n\u001B[0m\u001B[1;32m    160\u001B[0m                     \u001B[0mresponse_doc\u001B[0m\u001B[0;34m,\u001B[0m \u001B[0msock_info\u001B[0m\u001B[0;34m.\u001B[0m\u001B[0mmax_wire_version\u001B[0m\u001B[0;34m,\u001B[0m \u001B[0;32mNone\u001B[0m\u001B[0;34m,\u001B[0m\u001B[0;34m\u001B[0m\u001B[0;34m\u001B[0m\u001B[0m\n\u001B[1;32m    161\u001B[0m                     \u001B[0mallowable_errors\u001B[0m\u001B[0;34m,\u001B[0m\u001B[0;34m\u001B[0m\u001B[0;34m\u001B[0m\u001B[0m\n",
      "\u001B[0;32m~/.pyenv/versions/3.8.6/envs/python-data-prep/lib/python3.8/site-packages/pymongo/helpers.py\u001B[0m in \u001B[0;36m_check_command_response\u001B[0;34m(response, max_wire_version, msg, allowable_errors, parse_write_concern_error)\u001B[0m\n\u001B[1;32m    165\u001B[0m \u001B[0;34m\u001B[0m\u001B[0m\n\u001B[1;32m    166\u001B[0m             \u001B[0mmsg\u001B[0m \u001B[0;34m=\u001B[0m \u001B[0mmsg\u001B[0m \u001B[0;32mor\u001B[0m \u001B[0;34m\"%s\"\u001B[0m\u001B[0;34m\u001B[0m\u001B[0;34m\u001B[0m\u001B[0m\n\u001B[0;32m--> 167\u001B[0;31m             raise OperationFailure(msg % errmsg, code, response,\n\u001B[0m\u001B[1;32m    168\u001B[0m                                    max_wire_version)\n\u001B[1;32m    169\u001B[0m \u001B[0;34m\u001B[0m\u001B[0m\n",
      "\u001B[0;31mOperationFailure\u001B[0m: Exceeded memory limit for $group, but didn't allow external sort. Pass allowDiskUse:true to opt in., full error: {'ok': 0.0, 'errmsg': \"Exceeded memory limit for $group, but didn't allow external sort. Pass allowDiskUse:true to opt in.\", 'code': 292, 'codeName': 'QueryExceededMemoryLimitNoDiskUseAllowed'}"
     ]
    }
   ],
   "source": [
    "%%time\n",
    "'''Compare with mongo'''\n",
    "\n",
    "sales_agg = [\n",
    "    {\n",
    "        \"$group\": {\n",
    "            \"_id\": {\n",
    "                \"DATE\": \"$DATE\"\n",
    "            },\n",
    "            \"_vqbDocsArray\": {\n",
    "                \"$push\": \"$$ROOT\"\n",
    "            },\n",
    "            \"WEEKLY_SALES-sum\": {\n",
    "                \"$sum\": \"$WEEKLY_SALES\"\n",
    "            }\n",
    "        }\n",
    "    },\n",
    "    {\n",
    "        \"$unwind\": \"$_vqbDocsArray\"\n",
    "    },\n",
    "    {\n",
    "        \"$replaceRoot\": {\n",
    "            \"newRoot\": {\n",
    "                \"$mergeObjects\": [\n",
    "                    \"$_vqbDocsArray\",\n",
    "                    \"$$ROOT\"\n",
    "                ]\n",
    "            }\n",
    "        }\n",
    "    },\n",
    "    {\n",
    "        \"$project\": {\n",
    "            \"_id\": 0,\n",
    "            \"_vqbDocsArray\": 0\n",
    "        }\n",
    "    }\n",
    "]\n",
    "\n",
    "# Memory fail without allowDiskUse\n",
    "sales_col.aggregate(sales_agg)"
   ],
   "metadata": {
    "collapsed": false,
    "pycharm": {
     "name": "#%%\n"
    }
   }
  },
  {
   "cell_type": "code",
   "execution_count": 18,
   "outputs": [
    {
     "name": "stdout",
     "output_type": "stream",
     "text": [
      "CPU times: user 2.37 ms, sys: 156 µs, total: 2.52 ms\n",
      "Wall time: 1.42 s\n"
     ]
    },
    {
     "data": {
      "text/plain": "<pymongo.command_cursor.CommandCursor at 0x7f5018aa5e80>"
     },
     "execution_count": 18,
     "metadata": {},
     "output_type": "execute_result"
    }
   ],
   "source": [
    "%%time\n",
    "sales_col.aggregate(sales_agg, allowDiskUse=True)"
   ],
   "metadata": {
    "collapsed": false,
    "pycharm": {
     "name": "#%%\n"
    }
   }
  },
  {
   "cell_type": "markdown",
   "source": [
    "Result:\n",
    "- fail without allowDiskUse\n",
    "- double time in python due to the extraction from mongo of the whole dataset (3s)\n",
    "- the operation itself is notably faster in Python (80ms vs 1.5s)\n",
    "\n",
    "=> we will need to find a smart way to cache the extraction, maybe in a parquet file or something else fast"
   ],
   "metadata": {
    "collapsed": false,
    "pycharm": {
     "name": "#%% md\n"
    }
   }
  },
  {
   "cell_type": "markdown",
   "source": [
    "### Sort\n",
    "```json\n",
    "{\n",
    "    \"name\": \"sort\",\n",
    "    \"columns\": [\n",
    "      {\n",
    "        \"column\": \"DATE\",\n",
    "        \"order\": \"asc\"\n",
    "      }\n",
    "    ]\n",
    "}\n",
    "```\n"
   ],
   "metadata": {
    "collapsed": false,
    "pycharm": {
     "name": "#%% md\n"
    }
   }
  },
  {
   "cell_type": "code",
   "execution_count": 21,
   "outputs": [
    {
     "name": "stdout",
     "output_type": "stream",
     "text": [
      "CPU times: user 2.98 s, sys: 55.5 ms, total: 3.03 s\n",
      "Wall time: 3.22 s\n",
      "CPU times: user 886 ms, sys: 11.6 ms, total: 897 ms\n",
      "Wall time: 892 ms\n",
      "CPU times: user 3.86 s, sys: 67.1 ms, total: 3.93 s\n",
      "Wall time: 4.11 s\n"
     ]
    },
    {
     "data": {
      "text/plain": "                             _id  STORE_ID  DEPT_ID        DATE  WEEKLY_SALES\n404092  5f9142bfee2fc549d1982c6a        43       94  31/12/2010      41000.74\n91966   5f9142bdee2fc549d193692c        10       33  31/12/2010       9978.04\n341181  5f9142bfee2fc549d19736ab        36        8  31/12/2010       3362.24\n416393  5f9142bfee2fc549d1985c77        45       33  31/12/2010       2924.12\n123735  5f9142beee2fc549d193e545        13       48  31/12/2010       1309.00\n...                          ...       ...      ...         ...           ...\n286751  5f9142bfee2fc549d196620d        30        2  01/04/2011      13535.83\n65225   5f9142bdee2fc549d19300b7         7       54  01/04/2011         28.00\n184906  5f9142beee2fc549d194d438        19       74  01/04/2011      16831.26\n392696  5f9142bfee2fc549d197ffe6        42       13  01/04/2011      14201.53\n363425  5f9142bfee2fc549d1978d8f        39       18  01/04/2011       3715.14\n\n[421570 rows x 5 columns]",
      "text/html": "<div>\n<style scoped>\n    .dataframe tbody tr th:only-of-type {\n        vertical-align: middle;\n    }\n\n    .dataframe tbody tr th {\n        vertical-align: top;\n    }\n\n    .dataframe thead th {\n        text-align: right;\n    }\n</style>\n<table border=\"1\" class=\"dataframe\">\n  <thead>\n    <tr style=\"text-align: right;\">\n      <th></th>\n      <th>_id</th>\n      <th>STORE_ID</th>\n      <th>DEPT_ID</th>\n      <th>DATE</th>\n      <th>WEEKLY_SALES</th>\n    </tr>\n  </thead>\n  <tbody>\n    <tr>\n      <th>404092</th>\n      <td>5f9142bfee2fc549d1982c6a</td>\n      <td>43</td>\n      <td>94</td>\n      <td>31/12/2010</td>\n      <td>41000.74</td>\n    </tr>\n    <tr>\n      <th>91966</th>\n      <td>5f9142bdee2fc549d193692c</td>\n      <td>10</td>\n      <td>33</td>\n      <td>31/12/2010</td>\n      <td>9978.04</td>\n    </tr>\n    <tr>\n      <th>341181</th>\n      <td>5f9142bfee2fc549d19736ab</td>\n      <td>36</td>\n      <td>8</td>\n      <td>31/12/2010</td>\n      <td>3362.24</td>\n    </tr>\n    <tr>\n      <th>416393</th>\n      <td>5f9142bfee2fc549d1985c77</td>\n      <td>45</td>\n      <td>33</td>\n      <td>31/12/2010</td>\n      <td>2924.12</td>\n    </tr>\n    <tr>\n      <th>123735</th>\n      <td>5f9142beee2fc549d193e545</td>\n      <td>13</td>\n      <td>48</td>\n      <td>31/12/2010</td>\n      <td>1309.00</td>\n    </tr>\n    <tr>\n      <th>...</th>\n      <td>...</td>\n      <td>...</td>\n      <td>...</td>\n      <td>...</td>\n      <td>...</td>\n    </tr>\n    <tr>\n      <th>286751</th>\n      <td>5f9142bfee2fc549d196620d</td>\n      <td>30</td>\n      <td>2</td>\n      <td>01/04/2011</td>\n      <td>13535.83</td>\n    </tr>\n    <tr>\n      <th>65225</th>\n      <td>5f9142bdee2fc549d19300b7</td>\n      <td>7</td>\n      <td>54</td>\n      <td>01/04/2011</td>\n      <td>28.00</td>\n    </tr>\n    <tr>\n      <th>184906</th>\n      <td>5f9142beee2fc549d194d438</td>\n      <td>19</td>\n      <td>74</td>\n      <td>01/04/2011</td>\n      <td>16831.26</td>\n    </tr>\n    <tr>\n      <th>392696</th>\n      <td>5f9142bfee2fc549d197ffe6</td>\n      <td>42</td>\n      <td>13</td>\n      <td>01/04/2011</td>\n      <td>14201.53</td>\n    </tr>\n    <tr>\n      <th>363425</th>\n      <td>5f9142bfee2fc549d1978d8f</td>\n      <td>39</td>\n      <td>18</td>\n      <td>01/04/2011</td>\n      <td>3715.14</td>\n    </tr>\n  </tbody>\n</table>\n<p>421570 rows × 5 columns</p>\n</div>"
     },
     "execution_count": 21,
     "metadata": {},
     "output_type": "execute_result"
    }
   ],
   "source": [
    "%%time\n",
    "\n",
    "def sort(df: pd.DataFrame, columns: list) -> pd.DataFrame:\n",
    "    return df.sort_values([c['column'] for c in columns], ascending=[(c.get('order') == 'desc') for c in columns])\n",
    "\n",
    "%time df = get_domain('sales')\n",
    "%time df1 = sort(df, [{'column': 'DATE', 'order': 'asc'}])\n",
    "df1"
   ],
   "metadata": {
    "collapsed": false,
    "pycharm": {
     "name": "#%%\n"
    }
   }
  },
  {
   "cell_type": "code",
   "execution_count": 22,
   "outputs": [
    {
     "ename": "OperationFailure",
     "evalue": "Exceeded memory limit for $group, but didn't allow external sort. Pass allowDiskUse:true to opt in., full error: {'ok': 0.0, 'errmsg': \"Exceeded memory limit for $group, but didn't allow external sort. Pass allowDiskUse:true to opt in.\", 'code': 292, 'codeName': 'QueryExceededMemoryLimitNoDiskUseAllowed'}",
     "output_type": "error",
     "traceback": [
      "\u001B[0;31m---------------------------------------------------------------------------\u001B[0m",
      "\u001B[0;31mOperationFailure\u001B[0m                          Traceback (most recent call last)",
      "\u001B[0;32m<timed exec>\u001B[0m in \u001B[0;36m<module>\u001B[0;34m\u001B[0m\n",
      "\u001B[0;32m~/.pyenv/versions/3.8.6/envs/python-data-prep/lib/python3.8/site-packages/pymongo/collection.py\u001B[0m in \u001B[0;36maggregate\u001B[0;34m(self, pipeline, session, **kwargs)\u001B[0m\n\u001B[1;32m   2451\u001B[0m         \"\"\"\n\u001B[1;32m   2452\u001B[0m         \u001B[0;32mwith\u001B[0m \u001B[0mself\u001B[0m\u001B[0;34m.\u001B[0m\u001B[0m__database\u001B[0m\u001B[0;34m.\u001B[0m\u001B[0mclient\u001B[0m\u001B[0;34m.\u001B[0m\u001B[0m_tmp_session\u001B[0m\u001B[0;34m(\u001B[0m\u001B[0msession\u001B[0m\u001B[0;34m,\u001B[0m \u001B[0mclose\u001B[0m\u001B[0;34m=\u001B[0m\u001B[0;32mFalse\u001B[0m\u001B[0;34m)\u001B[0m \u001B[0;32mas\u001B[0m \u001B[0ms\u001B[0m\u001B[0;34m:\u001B[0m\u001B[0;34m\u001B[0m\u001B[0;34m\u001B[0m\u001B[0m\n\u001B[0;32m-> 2453\u001B[0;31m             return self._aggregate(_CollectionAggregationCommand,\n\u001B[0m\u001B[1;32m   2454\u001B[0m                                    \u001B[0mpipeline\u001B[0m\u001B[0;34m,\u001B[0m\u001B[0;34m\u001B[0m\u001B[0;34m\u001B[0m\u001B[0m\n\u001B[1;32m   2455\u001B[0m                                    \u001B[0mCommandCursor\u001B[0m\u001B[0;34m,\u001B[0m\u001B[0;34m\u001B[0m\u001B[0;34m\u001B[0m\u001B[0m\n",
      "\u001B[0;32m~/.pyenv/versions/3.8.6/envs/python-data-prep/lib/python3.8/site-packages/pymongo/collection.py\u001B[0m in \u001B[0;36m_aggregate\u001B[0;34m(self, aggregation_command, pipeline, cursor_class, session, explicit_session, **kwargs)\u001B[0m\n\u001B[1;32m   2373\u001B[0m             \u001B[0mself\u001B[0m\u001B[0;34m,\u001B[0m \u001B[0mcursor_class\u001B[0m\u001B[0;34m,\u001B[0m \u001B[0mpipeline\u001B[0m\u001B[0;34m,\u001B[0m \u001B[0mkwargs\u001B[0m\u001B[0;34m,\u001B[0m \u001B[0mexplicit_session\u001B[0m\u001B[0;34m,\u001B[0m\u001B[0;34m\u001B[0m\u001B[0;34m\u001B[0m\u001B[0m\n\u001B[1;32m   2374\u001B[0m             user_fields={'cursor': {'firstBatch': 1}}, use_cursor=use_cursor)\n\u001B[0;32m-> 2375\u001B[0;31m         return self.__database.client._retryable_read(\n\u001B[0m\u001B[1;32m   2376\u001B[0m             \u001B[0mcmd\u001B[0m\u001B[0;34m.\u001B[0m\u001B[0mget_cursor\u001B[0m\u001B[0;34m,\u001B[0m \u001B[0mcmd\u001B[0m\u001B[0;34m.\u001B[0m\u001B[0mget_read_preference\u001B[0m\u001B[0;34m(\u001B[0m\u001B[0msession\u001B[0m\u001B[0;34m)\u001B[0m\u001B[0;34m,\u001B[0m \u001B[0msession\u001B[0m\u001B[0;34m,\u001B[0m\u001B[0;34m\u001B[0m\u001B[0;34m\u001B[0m\u001B[0m\n\u001B[1;32m   2377\u001B[0m             retryable=not cmd._performs_write)\n",
      "\u001B[0;32m~/.pyenv/versions/3.8.6/envs/python-data-prep/lib/python3.8/site-packages/pymongo/mongo_client.py\u001B[0m in \u001B[0;36m_retryable_read\u001B[0;34m(self, func, read_pref, session, address, retryable, exhaust)\u001B[0m\n\u001B[1;32m   1469\u001B[0m                         \u001B[0;31m# not support retryable reads, raise the last error.\u001B[0m\u001B[0;34m\u001B[0m\u001B[0;34m\u001B[0m\u001B[0;34m\u001B[0m\u001B[0m\n\u001B[1;32m   1470\u001B[0m                         \u001B[0;32mraise\u001B[0m \u001B[0mlast_error\u001B[0m\u001B[0;34m\u001B[0m\u001B[0;34m\u001B[0m\u001B[0m\n\u001B[0;32m-> 1471\u001B[0;31m                     \u001B[0;32mreturn\u001B[0m \u001B[0mfunc\u001B[0m\u001B[0;34m(\u001B[0m\u001B[0msession\u001B[0m\u001B[0;34m,\u001B[0m \u001B[0mserver\u001B[0m\u001B[0;34m,\u001B[0m \u001B[0msock_info\u001B[0m\u001B[0;34m,\u001B[0m \u001B[0mslave_ok\u001B[0m\u001B[0;34m)\u001B[0m\u001B[0;34m\u001B[0m\u001B[0;34m\u001B[0m\u001B[0m\n\u001B[0m\u001B[1;32m   1472\u001B[0m             \u001B[0;32mexcept\u001B[0m \u001B[0mServerSelectionTimeoutError\u001B[0m\u001B[0;34m:\u001B[0m\u001B[0;34m\u001B[0m\u001B[0;34m\u001B[0m\u001B[0m\n\u001B[1;32m   1473\u001B[0m                 \u001B[0;32mif\u001B[0m \u001B[0mretrying\u001B[0m\u001B[0;34m:\u001B[0m\u001B[0;34m\u001B[0m\u001B[0;34m\u001B[0m\u001B[0m\n",
      "\u001B[0;32m~/.pyenv/versions/3.8.6/envs/python-data-prep/lib/python3.8/site-packages/pymongo/aggregation.py\u001B[0m in \u001B[0;36mget_cursor\u001B[0;34m(self, session, server, sock_info, slave_ok)\u001B[0m\n\u001B[1;32m    134\u001B[0m \u001B[0;34m\u001B[0m\u001B[0m\n\u001B[1;32m    135\u001B[0m         \u001B[0;31m# Run command.\u001B[0m\u001B[0;34m\u001B[0m\u001B[0;34m\u001B[0m\u001B[0;34m\u001B[0m\u001B[0m\n\u001B[0;32m--> 136\u001B[0;31m         result = sock_info.command(\n\u001B[0m\u001B[1;32m    137\u001B[0m             \u001B[0mself\u001B[0m\u001B[0;34m.\u001B[0m\u001B[0m_database\u001B[0m\u001B[0;34m.\u001B[0m\u001B[0mname\u001B[0m\u001B[0;34m,\u001B[0m\u001B[0;34m\u001B[0m\u001B[0;34m\u001B[0m\u001B[0m\n\u001B[1;32m    138\u001B[0m             \u001B[0mcmd\u001B[0m\u001B[0;34m,\u001B[0m\u001B[0;34m\u001B[0m\u001B[0;34m\u001B[0m\u001B[0m\n",
      "\u001B[0;32m~/.pyenv/versions/3.8.6/envs/python-data-prep/lib/python3.8/site-packages/pymongo/pool.py\u001B[0m in \u001B[0;36mcommand\u001B[0;34m(self, dbname, spec, slave_ok, read_preference, codec_options, check, allowable_errors, check_keys, read_concern, write_concern, parse_write_concern_error, collation, session, client, retryable_write, publish_events, user_fields, exhaust_allowed)\u001B[0m\n\u001B[1;32m    681\u001B[0m             \u001B[0mself\u001B[0m\u001B[0;34m.\u001B[0m\u001B[0m_raise_if_not_writable\u001B[0m\u001B[0;34m(\u001B[0m\u001B[0munacknowledged\u001B[0m\u001B[0;34m)\u001B[0m\u001B[0;34m\u001B[0m\u001B[0;34m\u001B[0m\u001B[0m\n\u001B[1;32m    682\u001B[0m         \u001B[0;32mtry\u001B[0m\u001B[0;34m:\u001B[0m\u001B[0;34m\u001B[0m\u001B[0;34m\u001B[0m\u001B[0m\n\u001B[0;32m--> 683\u001B[0;31m             return command(self, dbname, spec, slave_ok,\n\u001B[0m\u001B[1;32m    684\u001B[0m                            \u001B[0mself\u001B[0m\u001B[0;34m.\u001B[0m\u001B[0mis_mongos\u001B[0m\u001B[0;34m,\u001B[0m \u001B[0mread_preference\u001B[0m\u001B[0;34m,\u001B[0m \u001B[0mcodec_options\u001B[0m\u001B[0;34m,\u001B[0m\u001B[0;34m\u001B[0m\u001B[0;34m\u001B[0m\u001B[0m\n\u001B[1;32m    685\u001B[0m                            \u001B[0msession\u001B[0m\u001B[0;34m,\u001B[0m \u001B[0mclient\u001B[0m\u001B[0;34m,\u001B[0m \u001B[0mcheck\u001B[0m\u001B[0;34m,\u001B[0m \u001B[0mallowable_errors\u001B[0m\u001B[0;34m,\u001B[0m\u001B[0;34m\u001B[0m\u001B[0;34m\u001B[0m\u001B[0m\n",
      "\u001B[0;32m~/.pyenv/versions/3.8.6/envs/python-data-prep/lib/python3.8/site-packages/pymongo/network.py\u001B[0m in \u001B[0;36mcommand\u001B[0;34m(sock_info, dbname, spec, slave_ok, is_mongos, read_preference, codec_options, session, client, check, allowable_errors, address, check_keys, listeners, max_bson_size, read_concern, parse_write_concern_error, collation, compression_ctx, use_op_msg, unacknowledged, user_fields, exhaust_allowed)\u001B[0m\n\u001B[1;32m    157\u001B[0m                 \u001B[0mclient\u001B[0m\u001B[0;34m.\u001B[0m\u001B[0m_process_response\u001B[0m\u001B[0;34m(\u001B[0m\u001B[0mresponse_doc\u001B[0m\u001B[0;34m,\u001B[0m \u001B[0msession\u001B[0m\u001B[0;34m)\u001B[0m\u001B[0;34m\u001B[0m\u001B[0;34m\u001B[0m\u001B[0m\n\u001B[1;32m    158\u001B[0m             \u001B[0;32mif\u001B[0m \u001B[0mcheck\u001B[0m\u001B[0;34m:\u001B[0m\u001B[0;34m\u001B[0m\u001B[0;34m\u001B[0m\u001B[0m\n\u001B[0;32m--> 159\u001B[0;31m                 helpers._check_command_response(\n\u001B[0m\u001B[1;32m    160\u001B[0m                     \u001B[0mresponse_doc\u001B[0m\u001B[0;34m,\u001B[0m \u001B[0msock_info\u001B[0m\u001B[0;34m.\u001B[0m\u001B[0mmax_wire_version\u001B[0m\u001B[0;34m,\u001B[0m \u001B[0;32mNone\u001B[0m\u001B[0;34m,\u001B[0m\u001B[0;34m\u001B[0m\u001B[0;34m\u001B[0m\u001B[0m\n\u001B[1;32m    161\u001B[0m                     \u001B[0mallowable_errors\u001B[0m\u001B[0;34m,\u001B[0m\u001B[0;34m\u001B[0m\u001B[0;34m\u001B[0m\u001B[0m\n",
      "\u001B[0;32m~/.pyenv/versions/3.8.6/envs/python-data-prep/lib/python3.8/site-packages/pymongo/helpers.py\u001B[0m in \u001B[0;36m_check_command_response\u001B[0;34m(response, max_wire_version, msg, allowable_errors, parse_write_concern_error)\u001B[0m\n\u001B[1;32m    165\u001B[0m \u001B[0;34m\u001B[0m\u001B[0m\n\u001B[1;32m    166\u001B[0m             \u001B[0mmsg\u001B[0m \u001B[0;34m=\u001B[0m \u001B[0mmsg\u001B[0m \u001B[0;32mor\u001B[0m \u001B[0;34m\"%s\"\u001B[0m\u001B[0;34m\u001B[0m\u001B[0;34m\u001B[0m\u001B[0m\n\u001B[0;32m--> 167\u001B[0;31m             raise OperationFailure(msg % errmsg, code, response,\n\u001B[0m\u001B[1;32m    168\u001B[0m                                    max_wire_version)\n\u001B[1;32m    169\u001B[0m \u001B[0;34m\u001B[0m\u001B[0m\n",
      "\u001B[0;31mOperationFailure\u001B[0m: Exceeded memory limit for $group, but didn't allow external sort. Pass allowDiskUse:true to opt in., full error: {'ok': 0.0, 'errmsg': \"Exceeded memory limit for $group, but didn't allow external sort. Pass allowDiskUse:true to opt in.\", 'code': 292, 'codeName': 'QueryExceededMemoryLimitNoDiskUseAllowed'}"
     ]
    }
   ],
   "source": [
    "%%time\n",
    "sales_sort = {\n",
    "    \"$sort\": {\n",
    "      \"Account_Created\": 1\n",
    "    }\n",
    "}\n",
    "sales_col.aggregate(sales_agg)\n"
   ],
   "metadata": {
    "collapsed": false,
    "pycharm": {
     "name": "#%%\n"
    }
   }
  },
  {
   "cell_type": "code",
   "execution_count": 24,
   "outputs": [
    {
     "name": "stdout",
     "output_type": "stream",
     "text": [
      "CPU times: user 3.23 ms, sys: 104 µs, total: 3.33 ms\n",
      "Wall time: 1.34 s\n"
     ]
    },
    {
     "data": {
      "text/plain": "<pymongo.command_cursor.CommandCursor at 0x7f50178165b0>"
     },
     "execution_count": 24,
     "metadata": {},
     "output_type": "execute_result"
    }
   ],
   "source": [
    "%%time\n",
    "sales_col.aggregate(sales_agg, allowDiskUse=True)"
   ],
   "metadata": {
    "collapsed": false,
    "pycharm": {
     "name": "#%%\n"
    }
   }
  },
  {
   "cell_type": "markdown",
   "source": [
    "Same conclusions:\n",
    "- mongo needs allowDiskUse\n",
    "- python operation notably faster than mongo (800ms vs 1.34s)\n"
   ],
   "metadata": {
    "collapsed": false,
    "pycharm": {
     "name": "#%% md\n"
    }
   }
  }
 ],
 "metadata": {
  "kernelspec": {
   "display_name": "Python 3",
   "language": "python",
   "name": "python3"
  },
  "language_info": {
   "codemirror_mode": {
    "name": "ipython",
    "version": 3
   },
   "file_extension": ".py",
   "mimetype": "text/x-python",
   "name": "python",
   "nbconvert_exporter": "python",
   "pygments_lexer": "ipython3",
   "version": "3.8.6"
  }
 },
 "nbformat": 4,
 "nbformat_minor": 4
}